{
 "cells": [
  {
   "cell_type": "markdown",
   "metadata": {},
   "source": [
    "# Day Objectives\n",
    " Python Data Structures \n",
    "        # Lists\n",
    "        # Tuples\n",
    "        # Dictionaries\n",
    " Basic Problem set on Data Structures\n",
    "         \n",
    " Advanced Problem set\n",
    " \n",
    " \n",
    " Packages and Modules in Python"
   ]
  },
  {
   "cell_type": "code",
   "execution_count": 34,
   "metadata": {},
   "outputs": [
    {
     "data": {
      "text/plain": [
       "277"
      ]
     },
     "execution_count": 34,
     "metadata": {},
     "output_type": "execute_result"
    }
   ],
   "source": [
    "li=[123,45,8765]\n",
    "li\n",
    "li[1]\n",
    "li[1:]\n",
    "li=li[::-1]\n",
    "li\n",
    "li[::-1]\n",
    "li[::2]\n",
    "li[1::2]\n",
    "#Lists can be accessed manipulated in two waays\n",
    "    #Direct referencing -[index]\n",
    "    #indirect referencing Through Funiotns\n",
    "#Adding Element to the end of the list\n",
    "li.append(20)\n",
    "li\n",
    "li.insert(1,30)# Adding element in index pisition\n",
    "li\n",
    "li.sort()\n",
    "li\n",
    "li.pop()#remove the last element\n",
    "li\n",
    "li.pop(1)#Remove an element at a particular index\n",
    "li\n",
    "li2=[134,245,654]\n",
    "li.extend(li2)\n",
    "sum(li)# sum of all elements in a list\n",
    "max(li)# Maximum element in a list\n",
    "min(li)# number of elements in alist\n",
    "sum(li)/len(li)#Average of list elements\n",
    "sum(li[::2])//len(li[::2])# Average of all alternative elements\n",
    "sum(li[1::2])//len(li[1::2])"
   ]
  },
  {
   "cell_type": "code",
   "execution_count": 41,
   "metadata": {},
   "outputs": [
    {
     "data": {
      "text/plain": [
       "1"
      ]
     },
     "execution_count": 41,
     "metadata": {},
     "output_type": "execute_result"
    }
   ],
   "source": [
    "#Funtion to identify second Largest element in alist\n",
    "    #sort the data and select the second\n",
    "    #sort the data in  reverse order\n",
    "    #remove the max element and then get last\n",
    "def secondLargest(li):\n",
    "    li.sort()\n",
    "    return li[-2]\n",
    "\n",
    "def genericLargest(li,n):\n",
    "    li.sort()\n",
    "    return li[-n]\n",
    "secondLargest([2,6,1,4,7])\n",
    "genericLargest([2,6,1,4,7],5)"
   ]
  },
  {
   "cell_type": "code",
   "execution_count": 43,
   "metadata": {},
   "outputs": [
    {
     "data": {
      "text/plain": [
       "True"
      ]
     },
     "execution_count": 43,
     "metadata": {},
     "output_type": "execute_result"
    }
   ],
   "source": [
    "#Funtion to search for data in a list(linear search)\n",
    "def leanersearch(li,key):\n",
    "    if key in li:\n",
    "        return True\n",
    "    else:\n",
    "        return False\n",
    "leanersearch(li,20)\n"
   ]
  },
  {
   "cell_type": "code",
   "execution_count": 65,
   "metadata": {},
   "outputs": [
    {
     "data": {
      "text/plain": [
       "[20, 45, 123, 134, 245, 654]"
      ]
     },
     "execution_count": 65,
     "metadata": {},
     "output_type": "execute_result"
    }
   ],
   "source": [
    "li"
   ]
  },
  {
   "cell_type": "code",
   "execution_count": 68,
   "metadata": {},
   "outputs": [
    {
     "data": {
      "text/plain": [
       "3"
      ]
     },
     "execution_count": 68,
     "metadata": {},
     "output_type": "execute_result"
    }
   ],
   "source": [
    "#Funtion to search for data in a list(linear search-1)\n",
    "def leanersearch(li,key):\n",
    "    for i in range(0,len(li)):\n",
    "        if li[i]==key:\n",
    "            return i+1\n",
    "    return -1\n",
    "leanersearch(li,123)\n"
   ]
  },
  {
   "cell_type": "code",
   "execution_count": 70,
   "metadata": {},
   "outputs": [
    {
     "data": {
      "text/plain": [
       "3"
      ]
     },
     "execution_count": 70,
     "metadata": {},
     "output_type": "execute_result"
    }
   ],
   "source": [
    "def leanerserch2(li,key):\n",
    "    for ele in li:\n",
    "        if ele==key:\n",
    "            return li.index(ele)\n",
    "    return -1\n",
    "leanerserch2(li,134)"
   ]
  },
  {
   "cell_type": "code",
   "execution_count": 71,
   "metadata": {},
   "outputs": [
    {
     "data": {
      "text/plain": [
       "3"
      ]
     },
     "execution_count": 71,
     "metadata": {},
     "output_type": "execute_result"
    }
   ],
   "source": [
    "def leanersearch3(li,key):\n",
    "    return li.index[key]\n",
    "leanerserch2(li,134)"
   ]
  },
  {
   "cell_type": "code",
   "execution_count": 73,
   "metadata": {},
   "outputs": [
    {
     "data": {
      "text/plain": [
       "3"
      ]
     },
     "execution_count": 73,
     "metadata": {},
     "output_type": "execute_result"
    }
   ],
   "source": [
    "def leanersearch4(li,key):\n",
    "    if key in li:\n",
    "        return li.index(key)\n",
    "    else:\n",
    "        return -1\n",
    "leanerserch2(li,134)"
   ]
  },
  {
   "cell_type": "code",
   "execution_count": 85,
   "metadata": {},
   "outputs": [
    {
     "data": {
      "text/plain": [
       "2"
      ]
     },
     "execution_count": 85,
     "metadata": {},
     "output_type": "execute_result"
    }
   ],
   "source": [
    "#Funtion to Count the occurances of a charater\n",
    "#input:\"Python programming\"\n",
    "#output:m==2\n",
    "l=\"Python programming\"\n",
    "l.count('m')\n",
    "def countoccurences(s,sc):\n",
    "    count=0\n",
    "    for ch in s:\n",
    "        if sc== ch:\n",
    "            count+=1\n",
    "    return count\n",
    "countoccurences(\"vijay\",'v')\n",
    "def countoccurences1(s,sc):\n",
    "    return s.count(sc)\n",
    "countoccurences1(\"vijay\",'vi')\n",
    "#Funtion to fine the number of occurences of sub string\n",
    "#\"abcaabcabaa\",\"ab\"-->2\n",
    "def substring(s,sb):\n",
    "    count=0;\n",
    "    for i in range(0,len(s)):\n",
    "        if(sb==s[i-1:i+1]):\n",
    "            count+=1\n",
    "    return count\n",
    "substring(\"abaabaa\",\"ab\")\n"
   ]
  },
  {
   "cell_type": "code",
   "execution_count": null,
   "metadata": {},
   "outputs": [],
   "source": []
  }
 ],
 "metadata": {
  "kernelspec": {
   "display_name": "Python 3",
   "language": "python",
   "name": "python3"
  },
  "language_info": {
   "codemirror_mode": {
    "name": "ipython",
    "version": 3
   },
   "file_extension": ".py",
   "mimetype": "text/x-python",
   "name": "python",
   "nbconvert_exporter": "python",
   "pygments_lexer": "ipython3",
   "version": "3.7.3"
  }
 },
 "nbformat": 4,
 "nbformat_minor": 2
}
