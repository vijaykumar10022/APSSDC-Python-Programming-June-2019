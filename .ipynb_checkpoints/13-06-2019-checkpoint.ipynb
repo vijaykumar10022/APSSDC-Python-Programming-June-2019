{
 "cells": [
  {
   "cell_type": "code",
   "execution_count": 3,
   "metadata": {},
   "outputs": [
    {
     "name": "stdout",
     "output_type": "stream",
     "text": [
      "500 502 504 506 508 510 512 514 516 518 520 522 524 526 528 530 532 534 536 538 540 542 544 546 548 550 "
     ]
    }
   ],
   "source": [
    "for i in range(500,552,2):\n",
    "    print(i,end=\" \")"
   ]
  },
  {
   "cell_type": "code",
   "execution_count": 6,
   "metadata": {},
   "outputs": [
    {
     "name": "stdout",
     "output_type": "stream",
     "text": [
      "9 7 5 3 1 "
     ]
    }
   ],
   "source": [
    "#Funtion to print reverse  of given range in the \n",
    "def reverseRange(s,e):\n",
    "    for value in range(e,s-1,-1):\n",
    "        if(value%2==1):\n",
    "            print(value ,end=\" \")\n",
    "    return \n",
    "reverseRange(1,10)"
   ]
  },
  {
   "cell_type": "code",
   "execution_count": 7,
   "metadata": {},
   "outputs": [
    {
     "data": {
      "text/plain": [
       "55"
      ]
     },
     "execution_count": 7,
     "metadata": {},
     "output_type": "execute_result"
    }
   ],
   "source": [
    "# funtion to calculate the sum of numners in a range\n",
    "def sum_of_number(l,u):\n",
    "    sum1=0\n",
    "    for i in range(l,u+1):\n",
    "        sum1+=i\n",
    "    return sum1\n",
    "sum_of_number(1,10)\n",
    "    "
   ]
  },
  {
   "cell_type": "code",
   "execution_count": 11,
   "metadata": {},
   "outputs": [],
   "source": [
    "def isLeap(year):\n",
    "    if(year%400==0 or (year%100!=0 and year%4==0)):\n",
    "        return True\n",
    "    else:\n",
    "        return False"
   ]
  },
  {
   "cell_type": "code",
   "execution_count": 31,
   "metadata": {},
   "outputs": [
    {
     "data": {
      "text/plain": [
       "730"
      ]
     },
     "execution_count": 31,
     "metadata": {},
     "output_type": "execute_result"
    }
   ],
   "source": [
    "def no_of_days(sy,ey):\n",
    "    days=0\n",
    "    for year in range(sy,ey+1):\n",
    "        if (isLeap(sy)==True):\n",
    "            days=days+366\n",
    "        else:\n",
    "            days=days+365\n",
    "    return days\n",
    "no_of_days(2017,2018)"
   ]
  },
  {
   "cell_type": "code",
   "execution_count": 53,
   "metadata": {},
   "outputs": [
    {
     "data": {
      "text/plain": [
       "30"
      ]
     },
     "execution_count": 53,
     "metadata": {},
     "output_type": "execute_result"
    }
   ],
   "source": [
    "def no_of_month(m,y):\n",
    "    if(m<=7 and m%2!=0)or(m>=8 and m%2==0):\n",
    "        return 31\n",
    "    elif(m==2):\n",
    "        if(isLeap(y)==True):\n",
    "            return 29\n",
    "        else:\n",
    "            return 28\n",
    "    else:\n",
    "        return 30\n",
    "no_of_month(11,2016)"
   ]
  },
  {
   "cell_type": "code",
   "execution_count": 54,
   "metadata": {},
   "outputs": [
    {
     "data": {
      "text/plain": [
       "92"
      ]
     },
     "execution_count": 54,
     "metadata": {},
     "output_type": "execute_result"
    }
   ],
   "source": [
    "def dayinstartyear(sm,sy):\n",
    "    days=0\n",
    "    for month in range(sm,13):\n",
    "        days=days+no_of_month(month,sy)\n",
    "    return days\n",
    "dayinstartyear(10,2016)"
   ]
  },
  {
   "cell_type": "code",
   "execution_count": 55,
   "metadata": {},
   "outputs": [
    {
     "data": {
      "text/plain": [
       "60"
      ]
     },
     "execution_count": 55,
     "metadata": {},
     "output_type": "execute_result"
    }
   ],
   "source": [
    "def dayinendyear(em,ey):\n",
    "    days=0\n",
    "    for month in range(1,em+1):\n",
    "        days=days+no_of_month(month,ey)\n",
    "    return days\n",
    "dayinendyear(2,2016)"
   ]
  },
  {
   "cell_type": "code",
   "execution_count": 57,
   "metadata": {},
   "outputs": [
    {
     "data": {
      "text/plain": [
       "205656"
      ]
     },
     "execution_count": 57,
     "metadata": {},
     "output_type": "execute_result"
    }
   ],
   "source": [
    "def no_of_hours(sm,sy,em,ey):\n",
    "    days=0\n",
    "    days=days+dayinstartyear(sm,sy)\n",
    "    days=days+dayinendyear(em,ey)\n",
    "    if((ey-sy)==2):\n",
    "        days=days+no_of_days(sy+1,ey+1)\n",
    "    elif((ey-sy)>2):\n",
    "        days=days+no_of_days(sy+1,ey-1)\n",
    "    return days*24\n",
    "no_of_hours(11,1975,3,1999)"
   ]
  },
  {
   "cell_type": "code",
   "execution_count": null,
   "metadata": {},
   "outputs": [],
   "source": []
  }
 ],
 "metadata": {
  "kernelspec": {
   "display_name": "Python 3",
   "language": "python",
   "name": "python3"
  },
  "language_info": {
   "codemirror_mode": {
    "name": "ipython",
    "version": 3
   },
   "file_extension": ".py",
   "mimetype": "text/x-python",
   "name": "python",
   "nbconvert_exporter": "python",
   "pygments_lexer": "ipython3",
   "version": "3.7.3"
  }
 },
 "nbformat": 4,
 "nbformat_minor": 2
}
