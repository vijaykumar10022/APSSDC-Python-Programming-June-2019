{
 "cells": [
  {
   "cell_type": "markdown",
   "metadata": {},
   "source": [
    "\n",
    "### Day Objectives\n",
    "   - Maps\n",
    "   - Lamda\n",
    "   - Filter\n",
    "   - use cased -file/Data Encryption"
   ]
  },
  {
   "cell_type": "markdown",
   "metadata": {},
   "source": [
    "### Map\n",
    " - Maping b/w an entity with a funtion\n",
    " - map(funtion ,iterable)\n",
    " \n",
    " "
   ]
  },
  {
   "cell_type": "code",
   "execution_count": 5,
   "metadata": {},
   "outputs": [
    {
     "data": {
      "text/plain": [
       "8"
      ]
     },
     "execution_count": 5,
     "metadata": {},
     "output_type": "execute_result"
    }
   ],
   "source": [
    "def pow(a,n):# a,3\n",
    "    #return a**n\n",
    "    r=1\n",
    "    for i in range(n):\n",
    "        r*=a\n",
    "    return r\n",
    "pow(2,3)\n",
    "def recursivepower(a,n):\n",
    "    if n==0:\n",
    "        return 1\n",
    "    else:\n",
    "        return a*recursivepower(a,n-1)\n",
    "recursivepower(2,3)"
   ]
  },
  {
   "cell_type": "code",
   "execution_count": 42,
   "metadata": {},
   "outputs": [
    {
     "data": {
      "text/plain": [
       "[1, 2, 3, 5, 6]"
      ]
     },
     "execution_count": 42,
     "metadata": {},
     "output_type": "execute_result"
    }
   ],
   "source": [
    "def cube(n):\n",
    "    return n**3\n",
    "# li=['1','2','3','4','5','6']\n",
    "s=\"12356\"\n",
    "# s=list(s)\n",
    "list(map(int,s))\n"
   ]
  },
  {
   "cell_type": "markdown",
   "metadata": {},
   "source": [
    "### Filter\n",
    "    - used as boolean value it return True /False\n",
    "    filter(funtion ,sequence)"
   ]
  },
  {
   "cell_type": "code",
   "execution_count": 56,
   "metadata": {},
   "outputs": [
    {
     "data": {
      "text/plain": [
       "['b', 'c']"
      ]
     },
     "execution_count": 56,
     "metadata": {},
     "output_type": "execute_result"
    }
   ],
   "source": [
    "l=[1,2,'123a','b','c',3]\n",
    "def isDigit(c):\n",
    "    c=str(c)\n",
    "    if(c.isalpha()):\n",
    "        return True\n",
    "    else:\n",
    "        return False\n",
    "isDigit('c')\n",
    "list(filter(isDigit,l))"
   ]
  },
  {
   "cell_type": "code",
   "execution_count": 79,
   "metadata": {},
   "outputs": [
    {
     "data": {
      "text/plain": [
       "[503, 509, 521, 523, 541, 547, 557, 563, 569, 571, 577, 587, 593, 599]"
      ]
     },
     "execution_count": 79,
     "metadata": {},
     "output_type": "execute_result"
    }
   ],
   "source": [
    "# filter funtion to identify all primes for given range using fileter\n",
    "def checkprime(n):\n",
    "    for i in range(2,n//2 +1):\n",
    "        if n%i==0:\n",
    "            return False\n",
    "    return True\n",
    "# list(filter(checkprime,range(500,600)))\n",
    "# [checkprime(i) for i in range(500,600)   ]\n",
    "[i for i in range(500,600) if checkprime(i)  ]\n",
    "# map fails because map is not use for condition check"
   ]
  },
  {
   "cell_type": "markdown",
   "metadata": {},
   "source": [
    "### Lambda\n",
    " - Anonymous Funtions which are embedded into iterables(lists Comprehension,maps,filters)\n",
    " \n"
   ]
  },
  {
   "cell_type": "code",
   "execution_count": 85,
   "metadata": {},
   "outputs": [
    {
     "name": "stdout",
     "output_type": "stream",
     "text": [
      "['False', 'None', 'True', 'and', 'as', 'assert', 'async', 'await', 'break', 'class', 'continue', 'def', 'del', 'elif', 'else', 'except', 'finally', 'for', 'from', 'global', 'if', 'import', 'in', 'is', 'lambda', 'nonlocal', 'not', 'or', 'pass', 'raise', 'return', 'try', 'while', 'with', 'yield']\n"
     ]
    }
   ],
   "source": [
    "import keyword \n",
    "print(keyword.kwlist)"
   ]
  },
  {
   "cell_type": "code",
   "execution_count": 95,
   "metadata": {},
   "outputs": [
    {
     "data": {
      "text/plain": [
       "[2, 4, 6, 8]"
      ]
     },
     "execution_count": 95,
     "metadata": {},
     "output_type": "execute_result"
    }
   ],
   "source": [
    "a= lambda x:x ** 3\n",
    "# for i in range(1,10):\n",
    "#     print(a(i))\n",
    "list(map(lambda x :x ** 3,range(1,10)))\n",
    "list(filter(lambda x:(x % 2==0),range(1,10)))"
   ]
  },
  {
   "cell_type": "code",
   "execution_count": 107,
   "metadata": {},
   "outputs": [
    {
     "name": "stdout",
     "output_type": "stream",
     "text": [
      "[23, 24, 14, 21, 10, 9, 13, 13, 4, 17]\n",
      "[16, 25, 25, 19, 2, 8, 0, 5, 13, 17]\n",
      "[19.5, 24.5, 19.5, 20.0, 6.0, 8.5, 6.5, 9.0, 8.5, 17.0]\n"
     ]
    },
    {
     "data": {
      "text/plain": [
       "[6.0, 8.5, 6.5, 9.0, 8.5]"
      ]
     },
     "execution_count": 107,
     "metadata": {},
     "output_type": "execute_result"
    }
   ],
   "source": [
    "from random import randint\n",
    "internal1 = [randint(0,25) for i in range(10)]\n",
    "internal2 = [randint(0,25) for i in range(10)]\n",
    "averageinternalmarks= list(map(lambda x,y:(x+y)/2,internal1,internal2))\n",
    "print(internal1)\n",
    "print(internal2)\n",
    "print(averageinternalmarks)\n",
    "fail=list(filter(lambda x:x<10,list(map(lambda x,y:(x+y)/2,internal1,internal2))))\n",
    "fail"
   ]
  },
  {
   "cell_type": "code",
   "execution_count": null,
   "metadata": {},
   "outputs": [],
   "source": []
  }
 ],
 "metadata": {
  "kernelspec": {
   "display_name": "Python 3",
   "language": "python",
   "name": "python3"
  },
  "language_info": {
   "codemirror_mode": {
    "name": "ipython",
    "version": 3
   },
   "file_extension": ".py",
   "mimetype": "text/x-python",
   "name": "python",
   "nbconvert_exporter": "python",
   "pygments_lexer": "ipython3",
   "version": "3.7.3"
  }
 },
 "nbformat": 4,
 "nbformat_minor": 2
}
