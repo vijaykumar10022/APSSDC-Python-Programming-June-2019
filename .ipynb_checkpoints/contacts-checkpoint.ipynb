{
 "cells": [
  {
   "cell_type": "code",
   "execution_count": 12,
   "metadata": {},
   "outputs": [
    {
     "name": "stdout",
     "output_type": "stream",
     "text": [
      "True\n"
     ]
    }
   ],
   "source": [
    " from Packeges import validators\n",
    "import re\n",
    "def addContact(name,phone,email):\n",
    "    filename = 'DataFiles/contacts.txt'\n",
    "    if not checkcontactexits(name):\n",
    "        if(phoneNumbeValidator(phone)):\n",
    "            with open(filename,'a') as f:\n",
    "                line=name + ',' + str(phone) + ',' +email+'\\n'\n",
    "                f.write(line)\n",
    "            print(name,'Added to Contacts') \n",
    "        else:\n",
    "            print(\"Invalid Phone number or email\")\n",
    "    else:\n",
    "        print(name,'Alredy exits')\n",
    "    return \n",
    "def checkcontactexits(name):\n",
    "    filename = 'DataFiles/contacts.txt'\n",
    "    with open(filename,'r') as f:\n",
    "        filedata=f.read()\n",
    "        pattern=name+','\n",
    "    return re.search(name,filedata)\n",
    "if(checkcontactexits('vijay')):\n",
    "    print(True)\n",
    "else:\n",
    "    print(False)\n",
    "    "
   ]
  },
  {
   "cell_type": "code",
   "execution_count": null,
   "metadata": {},
   "outputs": [],
   "source": []
  }
 ],
 "metadata": {
  "kernelspec": {
   "display_name": "Python 3",
   "language": "python",
   "name": "python3"
  },
  "language_info": {
   "codemirror_mode": {
    "name": "ipython",
    "version": 3
   },
   "file_extension": ".py",
   "mimetype": "text/x-python",
   "name": "python",
   "nbconvert_exporter": "python",
   "pygments_lexer": "ipython3",
   "version": "3.7.3"
  }
 },
 "nbformat": 4,
 "nbformat_minor": 2
}
