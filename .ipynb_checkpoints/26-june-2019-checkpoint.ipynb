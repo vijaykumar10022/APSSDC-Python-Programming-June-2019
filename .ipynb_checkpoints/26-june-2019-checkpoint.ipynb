{
 "cells": [
  {
   "cell_type": "code",
   "execution_count": 1,
   "metadata": {},
   "outputs": [],
   "source": [
    "import re\n",
    "\n",
    "def phoneNumberValidation(number):\n",
    "   pattern = '^[6-9][0-9]{9}$|[0][6-9][0-9]{9}$|[+][9][1][6-9][0-9]{9}$'\n",
    "   if re.match(pattern,str(number)):\n",
    "       return True\n",
    "   else:\n",
    "       return False\n"
   ]
  },
  {
   "cell_type": "code",
   "execution_count": 2,
   "metadata": {},
   "outputs": [],
   "source": [
    "def emailValidator(email):\n",
    "   pattern = \"^[0-9a-z][0-9a-z-.]{4,13}[0-9a-z][@][a-z0-9]{3,18}[.][a-z]{2,4}$\"\n",
    "   if re.match(pattern,email):\n",
    "       return True\n",
    "   return False"
   ]
  },
  {
   "cell_type": "code",
   "execution_count": 3,
   "metadata": {},
   "outputs": [],
   "source": [
    "def contact_exists(name):\n",
    "    filename='Data/contacts.txt'\n",
    "    with open(filename,'r') as f:\n",
    "        p=name+','\n",
    "        fd=f.read()\n",
    "    return re.search(p,fd)"
   ]
  },
  {
   "cell_type": "code",
   "execution_count": 4,
   "metadata": {},
   "outputs": [],
   "source": [
    "def addContact(name, phone, email):\n",
    "    filepath='Data/contacts.txt'\n",
    "    if not contact_exists():\n",
    "        if emailValidator(email) and phoneNumberValidation(phone):\n",
    "            with open(filepath,'a') as f:\n",
    "                line=name+','+str(phone)+','+email+'\\n'\n",
    "                f.write(line)\n",
    "            print(name,\"is added to contacts list\")\n",
    "        else:\n",
    "            print('email or phone is invalid')\n",
    "    else:\n",
    "        print(name,'already exists')\n",
    "    return \n",
    "                "
   ]
  },
  {
   "cell_type": "code",
   "execution_count": 5,
   "metadata": {},
   "outputs": [
    {
     "name": "stdout",
     "output_type": "stream",
     "text": [
      "Contact not Exits\n"
     ]
    }
   ],
   "source": [
    "# search contacts\n",
    "def searchContact(name):\n",
    "    filepath='Data/contacts.txt'\n",
    "    if contact_exists(name):\n",
    "        with open(filepath,'r') as f:\n",
    "            fd=f.read()\n",
    "            p='[\\n]'\n",
    "            lis=re.split(p,fd)\n",
    "#             print(lis)\n",
    "            con=[]\n",
    "            for i in range(len(lis)):\n",
    "                con=lis[i].split(',')\n",
    "#                 print(con)\n",
    "                if name in con:\n",
    "                    return con\n",
    "    else:\n",
    "        print(\"Contact not Exits\")\n",
    "        return\n",
    "searchContact('lovely')"
   ]
  },
  {
   "cell_type": "code",
   "execution_count": 6,
   "metadata": {},
   "outputs": [
    {
     "name": "stdout",
     "output_type": "stream",
     "text": [
      "contact Not exits\n"
     ]
    }
   ],
   "source": [
    "def searchContact2(name):\n",
    "    filepath='Data/contacts.txt'\n",
    "    if contact_exists(name):\n",
    "        with open(filepath,'r') as f:\n",
    "            for i in f:\n",
    "                i=i.split(',')\n",
    "                if i[0] == name:\n",
    "                    i[1]=phone\n",
    "                    i[2]=email\n",
    "                    f.write((i[1]+','+i[2]))\n",
    "                   \n",
    "                \n",
    "#                     print(i[0],i[1],i[2])\n",
    "    else:\n",
    "        print(\"contact Not exits\")\n",
    "searchContact2(\"bbwe\")"
   ]
  },
  {
   "cell_type": "code",
   "execution_count": 7,
   "metadata": {},
   "outputs": [
    {
     "name": "stdout",
     "output_type": "stream",
     "text": [
      "['vj,9542219884,vijay10022@gmail.com', 'vijay,8686956043,vj10022@gmail.com']\n"
     ]
    }
   ],
   "source": [
    "#listContacts()\n",
    "def listContacts():\n",
    "    filepath='Data/contacts.txt'\n",
    "    with open(filepath,'r') as f:\n",
    "        x=f.read().split()\n",
    "        if len(x) != 0:\n",
    "            print(x)\n",
    "#             for i in range(len(x)):\n",
    "#                 print(x[i])\n",
    "        else:\n",
    "            print('Empty list of contacts')\n",
    "    return\n",
    "listContacts()"
   ]
  },
  {
   "cell_type": "code",
   "execution_count": 9,
   "metadata": {},
   "outputs": [
    {
     "name": "stdout",
     "output_type": "stream",
     "text": [
      "['vj,9542219884,vijay10022@gmail.com', 'vijay,8686956043,vj10022@gmail.com', '']\n",
      "['vj', '9542219884', 'vijay10022@gmail.com']\n",
      "['vijay', '8686956043', 'vj10022@gmail.com']\n",
      "['']\n"
     ]
    }
   ],
   "source": [
    "def readFile(filepath):\n",
    "    with open(filepath,'r') as f:\n",
    "            x=f.read()\n",
    "    return x\n",
    "def modifyContact(name,phone,email):\n",
    "    filepath='Data/contacts.txt'\n",
    "    filepath2='Data/new_contact.txt'\n",
    "    if contact_exists(name):\n",
    "        with open(filepath2,'w') as f:\n",
    "            x=readFile(filepath)\n",
    "            p='[\\n]'\n",
    "            lis=re.split(p,x)\n",
    "            print(lis)\n",
    "            con=[]\n",
    "            for i in range(len(lis)):\n",
    "                con=lis[i].split(',')\n",
    "                print(con)\n",
    "                if name in con:\n",
    "                    con[1]=phone\n",
    "                    con[2]=email\n",
    "#                     line=name+','+phone+','+email+'\\n'\n",
    "                    f.write(str(con))\n",
    "                else:\n",
    "                    f.write(str(con))\n",
    "#             for i in x:\n",
    "#                 print(i)\n",
    "#                 i=i.split(',')\n",
    "#                 if i[0] == name:\n",
    "#                     i[1]=phone\n",
    "#                     i[2]=email\n",
    "#                     f.write((i[1]+','+i[2]))\n",
    "                   \n",
    "                 \n",
    "#                     print(i[0],i[1],i[2])\n",
    "    else:\n",
    "        print(\"contact Not exits\")\n",
    "modifyContact(\"vj\",\"9542219884\",\"vijay10022@gmail.com\")"
   ]
  },
  {
   "cell_type": "code",
   "execution_count": null,
   "metadata": {},
   "outputs": [],
   "source": [
    "### Problem -k Largest Frequency\n",
    "    # Largest number in a list\n",
    "    # second Largest number in a list\n",
    "    # kth Largest numbr in list\n",
    "    \n",
    "    # Element with highest frequency\n",
    "    # second Highest frequency\n",
    "    # kth Highest Frequency\n",
    "    \n",
    "    #\n",
    "    "
   ]
  },
  {
   "cell_type": "code",
   "execution_count": 36,
   "metadata": {},
   "outputs": [
    {
     "data": {
      "text/plain": [
       "9"
      ]
     },
     "execution_count": 36,
     "metadata": {},
     "output_type": "execute_result"
    }
   ],
   "source": [
    "# Funtion to find the  second largest number\n",
    "def secondLargest(li,k):\n",
    "    # Convert list in to uniq list\n",
    "    if(len(li)>1):\n",
    "        unique = []\n",
    "        for n in li:\n",
    "            if n not in unique:\n",
    "                unique.append(n)\n",
    "        unique=sorted(unique,reverse=True)\n",
    "        return unique[k-1]\n",
    "    else:\n",
    "        return -1\n",
    "secondLargest([1,2,4,5,6],2)\n",
    "# 1 2 3 4 5 6\n",
    "# 6 5 4 3 2 1\n",
    "def fifthLeast(li,k):\n",
    "        unique = []\n",
    "    \n",
    "        if(len(li)>1):\n",
    "            for n in li:\n",
    "                if n not in unique:\n",
    "                    unique.append(n)\n",
    "            if(len(unique)>=k):\n",
    "                return unique[k-1]\n",
    "            else:\n",
    "                return -1\n",
    "        else:\n",
    "             return -1\n",
    "fifthLeast([1,2,3,4,2,8,6,4,3,2,1,66,44,11,3],5)\n",
    "# def klargest(li)\n",
    "def KSmallest(li,k):\n",
    "    unique=[]\n",
    "    for i in li:\n",
    "        if i not in unique:\n",
    "            unique.append(i)\n",
    "    # sort the unique list in ascending order\n",
    "            unique=sorted(unique)\n",
    "    #Check if length of unique list is grater than k\n",
    "        if (len(unique) >=k):\n",
    "            return unique[k-1]\n",
    "        \n",
    "    return -1\n",
    "    \n",
    "KSmallest([3,3,9],2)"
   ]
  },
  {
   "cell_type": "code",
   "execution_count": 46,
   "metadata": {},
   "outputs": [
    {
     "name": "stdout",
     "output_type": "stream",
     "text": [
      "{1: 1, 2: 1, 3: 1, 4: 1, 7: 1, 8: 1, 9: 1}\n",
      "1\n"
     ]
    }
   ],
   "source": [
    "# Funtion to identify with highest frequency in list\n",
    "#  have the highest e\n",
    "# highestFreq([1,2,3,9,8,7,3,4,2,1])\n",
    "def highestFreq(li):\n",
    "    freq={}\n",
    "    li=sorted(li)\n",
    "#     print(li)\n",
    "    for i in range(len(li)):\n",
    "        c=1\n",
    "        for j in range(i+1,len(li)):\n",
    "            if(li[i]==li[j]):\n",
    "                c=c+1\n",
    "        freq[li[i]]=c\n",
    "    print(freq)\n",
    "    print(freq[li[0]])\n",
    "highestFreq([1,2,3,9,8,7,3,4,2])   \n",
    "    \n"
   ]
  },
  {
   "cell_type": "code",
   "execution_count": 56,
   "metadata": {},
   "outputs": [
    {
     "data": {
      "text/plain": [
       "2"
      ]
     },
     "execution_count": 56,
     "metadata": {},
     "output_type": "execute_result"
    }
   ],
   "source": [
    "def highestFreq2(li,k):\n",
    "    # Extracting unique elements from with frequencys\n",
    "    unique={}\n",
    "    for n in li:\n",
    "        if n not in unique.keys():\n",
    "            unique[n] =1\n",
    "        else:\n",
    "            unique[n]+=1\n",
    "#     print(unique)\n",
    "    # Getting a;; frequencies into a list\n",
    "    maxfreq=max(unique.values())\n",
    "    maxfreqE=[]\n",
    "    # Identify the keys with  maximum freq\n",
    "    # Extract all keys with maxfreq in a list\n",
    "    for item in unique.items():\n",
    "        #item ->(key,value)\n",
    "        #item[1] -->valu\n",
    "        if item[1] == maxfreq:\n",
    "            maxfreqE.append(item[0])\n",
    "    # Select the minimum from the keys with max element\n",
    "    maxfreqE=sorted(maxfreqE,reverse=True)# minimumfreq[k-1]\n",
    "    return maxfreqE[k-1]\n",
    "highestFreq2([1,2,3,9,8,7,3,4,2,1],2)"
   ]
  },
  {
   "cell_type": "code",
   "execution_count": 66,
   "metadata": {},
   "outputs": [
    {
     "name": "stdout",
     "output_type": "stream",
     "text": [
      "[4, 2, 1]\n"
     ]
    }
   ],
   "source": [
    "#Function to identify second highest freq ele \n",
    "# if they are many such ele return smallest\n",
    "# [1,2,3,2,1,4,4] -->3\n",
    "def secondhighestfreq(li,k):\n",
    "    unique={}\n",
    "    for n in li:\n",
    "        if n not in unique.keys():\n",
    "            unique[n] =1\n",
    "        else:\n",
    "            unique[n]+=1\n",
    "#     print(unique)\n",
    "    # Getting a;; frequencies into a list\n",
    "    \n",
    "secondhighestfreq([1,2,3,2,1,4,4],2)"
   ]
  },
  {
   "cell_type": "code",
   "execution_count": null,
   "metadata": {},
   "outputs": [],
   "source": [
    "#funtion  to identify kth highest freq elem\n",
    "# if there are many syuch ele ,return -1\n",
    "#[9,7,6,5,2,3,4,9,6,7,7,7,6,7,6] ,k=4 -->2\n",
    "def kthhighestfreq(li,k):\n",
    "    "
   ]
  },
  {
   "cell_type": "code",
   "execution_count": null,
   "metadata": {},
   "outputs": [],
   "source": [
    "os=input()\n",
    "ns=input()\n",
    "def findnreplace(os,ns):\n",
    "    fname='Data/data.txt'\n",
    "    x=readFile(fname)\n",
    "    p='[\\n]'\n",
    "    lis=re.split(p,x)\n",
    "    print(lis)\n",
    "    with open(fname,'w'):\n",
    "        \n",
    "        "
   ]
  },
  {
   "cell_type": "code",
   "execution_count": null,
   "metadata": {},
   "outputs": [],
   "source": [
    "[1,1,1,2,2,2,3,3,3,4,4,5,5,6,6,7,8,9]"
   ]
  },
  {
   "cell_type": "code",
   "execution_count": 67,
   "metadata": {},
   "outputs": [
    {
     "ename": "SyntaxError",
     "evalue": "invalid syntax (<ipython-input-67-922eef066e30>, line 1)",
     "output_type": "error",
     "traceback": [
      "\u001b[1;36m  File \u001b[1;32m\"<ipython-input-67-922eef066e30>\"\u001b[1;36m, line \u001b[1;32m1\u001b[0m\n\u001b[1;33m    1->3\u001b[0m\n\u001b[1;37m      ^\u001b[0m\n\u001b[1;31mSyntaxError\u001b[0m\u001b[1;31m:\u001b[0m invalid syntax\n"
     ]
    }
   ],
   "source": [
    "1->3\n",
    "2->3\n",
    "3->3\n",
    "4->2\n",
    "5->2\n",
    "6->2\n",
    "7->1\n",
    "8->1\n",
    "9->1\n"
   ]
  },
  {
   "cell_type": "code",
   "execution_count": null,
   "metadata": {},
   "outputs": [],
   "source": []
  }
 ],
 "metadata": {
  "kernelspec": {
   "display_name": "Python 3",
   "language": "python",
   "name": "python3"
  },
  "language_info": {
   "codemirror_mode": {
    "name": "ipython",
    "version": 3
   },
   "file_extension": ".py",
   "mimetype": "text/x-python",
   "name": "python",
   "nbconvert_exporter": "python",
   "pygments_lexer": "ipython3",
   "version": "3.7.3"
  }
 },
 "nbformat": 4,
 "nbformat_minor": 2
}
