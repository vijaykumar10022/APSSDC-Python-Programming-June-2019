{
 "cells": [
  {
   "cell_type": "code",
   "execution_count": 28,
   "metadata": {},
   "outputs": [
    {
     "name": "stdout",
     "output_type": "stream",
     "text": [
      "5\n",
      "12\n",
      "7\n"
     ]
    }
   ],
   "source": [
    "# Funtion to print all combinations of pairs of integers in a unique list\n",
    "# [1,2,3]--(1,2),(1,3),(2,3) -->3C2 -->3! /((3-2)! * 2!) -->6/2 -->3\n",
    "\n",
    "#[1,2,3,4]-->1,2 1,3 1,4 2,3 2,4 3,4\n",
    "#[1,2,3,4]-->1,2,1,3,3\n",
    "def combinations2(li):\n",
    "    for i in range(len(li)-1):\n",
    "        for j in range(i+1,len(li)):\n",
    "                print(abs(li[i]-li[j]))\n",
    "combinations2([3,8,15])"
   ]
  },
  {
   "cell_type": "code",
   "execution_count": 28,
   "metadata": {},
   "outputs": [],
   "source": [
    "li=[1,2,3]"
   ]
  },
  {
   "cell_type": "code",
   "execution_count": 37,
   "metadata": {
    "scrolled": true
   },
   "outputs": [
    {
     "ename": "ValueError",
     "evalue": "invalid literal for int() with base 10: ''",
     "output_type": "error",
     "traceback": [
      "\u001b[1;31m---------------------------------------------------------------------------\u001b[0m",
      "\u001b[1;31mValueError\u001b[0m                                Traceback (most recent call last)",
      "\u001b[1;32m<ipython-input-37-c9665f93587e>\u001b[0m in \u001b[0;36m<module>\u001b[1;34m\u001b[0m\n\u001b[0;32m     24\u001b[0m     \u001b[1;32mreturn\u001b[0m \u001b[1;33m[\u001b[0m\u001b[0mcli\u001b[0m\u001b[1;33m,\u001b[0m\u001b[0mli\u001b[0m\u001b[1;33m]\u001b[0m\u001b[1;33m\u001b[0m\u001b[1;33m\u001b[0m\u001b[0m\n\u001b[0;32m     25\u001b[0m \u001b[1;32mwith\u001b[0m \u001b[0mopen\u001b[0m\u001b[1;33m(\u001b[0m\u001b[1;34m'Data/Mediuminput.txt'\u001b[0m\u001b[1;33m,\u001b[0m\u001b[1;34m'r'\u001b[0m\u001b[1;33m)\u001b[0m \u001b[1;32mas\u001b[0m \u001b[0mf\u001b[0m\u001b[1;33m:\u001b[0m\u001b[1;33m\u001b[0m\u001b[1;33m\u001b[0m\u001b[0m\n\u001b[1;32m---> 26\u001b[1;33m     \u001b[0mt\u001b[0m\u001b[1;33m=\u001b[0m\u001b[0mint\u001b[0m\u001b[1;33m(\u001b[0m\u001b[0mf\u001b[0m\u001b[1;33m.\u001b[0m\u001b[0mreadline\u001b[0m\u001b[1;33m(\u001b[0m\u001b[1;33m)\u001b[0m\u001b[1;33m)\u001b[0m\u001b[1;33m\u001b[0m\u001b[1;33m\u001b[0m\u001b[0m\n\u001b[0m\u001b[0;32m     27\u001b[0m     \u001b[1;32mfor\u001b[0m \u001b[0mi\u001b[0m \u001b[1;32min\u001b[0m \u001b[0mrange\u001b[0m\u001b[1;33m(\u001b[0m\u001b[0mt\u001b[0m\u001b[1;33m)\u001b[0m\u001b[1;33m:\u001b[0m\u001b[1;33m\u001b[0m\u001b[1;33m\u001b[0m\u001b[0m\n\u001b[0;32m     28\u001b[0m \u001b[1;31m#         f.readline()\u001b[0m\u001b[1;33m\u001b[0m\u001b[1;33m\u001b[0m\u001b[1;33m\u001b[0m\u001b[0m\n",
      "\u001b[1;31mValueError\u001b[0m: invalid literal for int() with base 10: ''"
     ]
    }
   ],
   "source": [
    "# [1,2,3]-->[1,2,3,1,2,1]-->[1,2,3]\n",
    "def mediumproblem(li,k):\n",
    "    while True:\n",
    "            li3=Differencespairs(li)\n",
    "            if(li3[0]==li3[1]):\n",
    "                break\n",
    "    if(len(li3[0])>=k):            \n",
    "        return sorted(li3[0],reverse=True)[k-1]\n",
    "    else:\n",
    "        return -1\n",
    "# Funtion To identify of all pairs of numbers\n",
    "# Pairs of numbrs and add those differences\n",
    "# to the same list\n",
    "# it returns the updated list and original list\n",
    "def Differencespairs(li):\n",
    "    cli=li[:]\n",
    "    newelements=[]\n",
    "    for i in range(len(li)-1):\n",
    "        for j in range(i+1,len(li)):\n",
    "            d=abs(int(li[i])-int(li[j]))\n",
    "            if (d not in li) and (d not in newelements):\n",
    "                  newelements.append(str(d))\n",
    "    li.extend(newelements)\n",
    "    return [cli,li]\n",
    "with open('Data/Mediuminput.txt','r') as f:\n",
    "    t=int(f.readline())\n",
    "    for i in range(t):\n",
    "#         f.readline()\n",
    "        li=f.readline().split()\n",
    "        k=int(f.readline())\n",
    "        mediumproblem(li,k)\n",
    "            \n",
    "        "
   ]
  },
  {
   "cell_type": "code",
   "execution_count": 39,
   "metadata": {},
   "outputs": [],
   "source": [
    "# list data referencing vs Data copy\n",
    "a=[1,2,3]\n",
    "b=[1,3,2]\n",
    "a=b.copy() # Data copy through indirect referencing\n",
    "a=b[:] # Data copy through direct referencing\n",
    "b.append(4)\n",
    "a.append(5)"
   ]
  },
  {
   "cell_type": "code",
   "execution_count": null,
   "metadata": {},
   "outputs": [],
   "source": []
  },
  {
   "cell_type": "code",
   "execution_count": 48,
   "metadata": {},
   "outputs": [
    {
     "data": {
      "text/plain": [
       "[[2, 3, 6, 9, 12, 1, 4, 7, 10, 5, 8, 11],\n",
       " [2, 3, 6, 9, 12, 1, 4, 7, 10, 5, 8, 11]]"
      ]
     },
     "execution_count": 48,
     "metadata": {},
     "output_type": "execute_result"
    }
   ],
   "source": [
    "# [4,8]\n",
    "# [20,40,60]\n",
    "# [4,8,12,16]\n",
    "# [3,6,9,12]\n",
    "# # convert the list into an\n",
    "# # Arithmatic Progresson\n",
    "# [3,8,15]-->\n",
    "# [3,8,15,5,2,1,4,6,9,10,11,12,13,14]\n",
    "def diferencespaires(li):\n",
    "    c=li.copy()\n",
    "    newelements=[]\n",
    "    for i in range(len(li)-1):\n",
    "        for j in range(i+1,len(li)):\n",
    "            d=abs(li[i]-li[j])\n",
    "            if d not in li and d not in newelements:\n",
    "                newelements.append(d)\n",
    "    li.extend(newelements)\n",
    "    return [c,li]\n",
    "    \n",
    "li=[2, 3, 6, 9, 12, 1, 4, 7, 10 ,5,8,11]\n",
    "diferencespaires(li)"
   ]
  },
  {
   "cell_type": "code",
   "execution_count": 27,
   "metadata": {},
   "outputs": [
    {
     "name": "stdout",
     "output_type": "stream",
     "text": [
      "1 ). 3 8 15\n"
     ]
    }
   ],
   "source": [
    "def combinationsof3(li):\n",
    "    t=1\n",
    "    for i in range(len(li)-2):\n",
    "        for j in range(i+1,len(li)-1):\n",
    "            for k in range(j+1,len(li)):\n",
    "                print(t,\").\",li[i],li[j],li[k])\n",
    "                t=t+1\n",
    "combinationsof3([3,8,15])"
   ]
  },
  {
   "cell_type": "markdown",
   "metadata": {},
   "source": [
    "### Set  - Data Structure in Python\n",
    "    -->Representedby {}\n",
    "    -->Only unique elements\n",
    "    "
   ]
  },
  {
   "cell_type": "code",
   "execution_count": 105,
   "metadata": {},
   "outputs": [
    {
     "name": "stdout",
     "output_type": "stream",
     "text": [
      "1 2 3 4 5 6 7 8 "
     ]
    },
    {
     "data": {
      "text/plain": [
       "{1, 2, 3, 4, 6, 7, 8, 20, 30, 40}"
      ]
     },
     "execution_count": 105,
     "metadata": {},
     "output_type": "execute_result"
    }
   ],
   "source": [
    "a={1,2,3,4,1,3,4,5,7,8}\n",
    "a.add(6)# adding single element to the set\n",
    "for i in a:\n",
    "    print(i,end=' ')# Accessing Elements\n",
    "b=[10,20,30,40]\n",
    "a.update(b) # Adding multiple elements\n",
    "a\n",
    "a.discard(10)\n",
    "a.remove(5)\n",
    "a\n"
   ]
  },
  {
   "cell_type": "code",
   "execution_count": 83,
   "metadata": {},
   "outputs": [
    {
     "data": {
      "text/plain": [
       "True"
      ]
     },
     "execution_count": 83,
     "metadata": {},
     "output_type": "execute_result"
    }
   ],
   "source": [
    "a={10,1,2,3,4,5,6}\n",
    "b={7,8,9,1,2,3}\n",
    "c={111,123}\n",
    "a.union(b)==b.union(a)\n",
    "# A U B = B U A\n",
    "a.intersection(b)==b.intersection(a)\n",
    "# A n B = B n A\n",
    "\n"
   ]
  },
  {
   "cell_type": "code",
   "execution_count": 84,
   "metadata": {},
   "outputs": [
    {
     "data": {
      "text/plain": [
       "True"
      ]
     },
     "execution_count": 84,
     "metadata": {},
     "output_type": "execute_result"
    }
   ],
   "source": [
    "a.isdisjoint(c)"
   ]
  },
  {
   "cell_type": "code",
   "execution_count": 85,
   "metadata": {},
   "outputs": [
    {
     "data": {
      "text/plain": [
       "{4, 5, 6, 10}"
      ]
     },
     "execution_count": 85,
     "metadata": {},
     "output_type": "execute_result"
    }
   ],
   "source": [
    "a-b # all  elements of a which are not in b"
   ]
  },
  {
   "cell_type": "code",
   "execution_count": 86,
   "metadata": {},
   "outputs": [
    {
     "data": {
      "text/plain": [
       "{1, 2, 3, 4, 5, 6, 10}"
      ]
     },
     "execution_count": 86,
     "metadata": {},
     "output_type": "execute_result"
    }
   ],
   "source": [
    "a-c"
   ]
  },
  {
   "cell_type": "code",
   "execution_count": 87,
   "metadata": {},
   "outputs": [
    {
     "data": {
      "text/plain": [
       "{111, 123}"
      ]
     },
     "execution_count": 87,
     "metadata": {},
     "output_type": "execute_result"
    }
   ],
   "source": [
    "c-a"
   ]
  },
  {
   "cell_type": "code",
   "execution_count": 89,
   "metadata": {},
   "outputs": [],
   "source": [
    "l=sorted(a)"
   ]
  },
  {
   "cell_type": "code",
   "execution_count": 91,
   "metadata": {},
   "outputs": [
    {
     "data": {
      "text/plain": [
       "list"
      ]
     },
     "execution_count": 91,
     "metadata": {},
     "output_type": "execute_result"
    }
   ],
   "source": [
    "type(l)"
   ]
  },
  {
   "cell_type": "code",
   "execution_count": 92,
   "metadata": {},
   "outputs": [
    {
     "data": {
      "text/plain": [
       "{4, 5, 6, 7, 8, 9, 10}"
      ]
     },
     "execution_count": 92,
     "metadata": {},
     "output_type": "execute_result"
    }
   ],
   "source": [
    "a^b #  elements either in a or b or uncommon elements"
   ]
  },
  {
   "cell_type": "code",
   "execution_count": 93,
   "metadata": {},
   "outputs": [
    {
     "data": {
      "text/plain": [
       "set"
      ]
     },
     "execution_count": 93,
     "metadata": {},
     "output_type": "execute_result"
    }
   ],
   "source": [
    "d=set() # emty set\n",
    "type(d)\n"
   ]
  },
  {
   "cell_type": "code",
   "execution_count": 95,
   "metadata": {},
   "outputs": [
    {
     "data": {
      "text/plain": [
       "{1, 2, 3}"
      ]
     },
     "execution_count": 95,
     "metadata": {},
     "output_type": "execute_result"
    }
   ],
   "source": [
    "l=[1,2,3,1,2,3,1,2,3]\n",
    "l=set(l)\n",
    "l"
   ]
  },
  {
   "cell_type": "markdown",
   "metadata": {},
   "source": [
    "### List Comprehencsion\n",
    "    \n",
    " "
   ]
  },
  {
   "cell_type": "code",
   "execution_count": 103,
   "metadata": {},
   "outputs": [
    {
     "data": {
      "text/plain": [
       "[1, 2, 3, 4, 5, 6, 7, 8, 9, 10]"
      ]
     },
     "execution_count": 103,
     "metadata": {},
     "output_type": "execute_result"
    }
   ],
   "source": [
    "# list of n natural number\n",
    "# n=10\n",
    "# l=[]\n",
    "# for i in range(1,n+1):\n",
    "#     l.append(i)\n",
    "# l\n",
    "l=[i for i in range(1,11)]\n",
    "l"
   ]
  },
  {
   "cell_type": "code",
   "execution_count": 104,
   "metadata": {},
   "outputs": [
    {
     "data": {
      "text/plain": [
       "[1, 8, 27, 64, 125, 216, 343, 512, 729, 1000]"
      ]
     },
     "execution_count": 104,
     "metadata": {},
     "output_type": "execute_result"
    }
   ],
   "source": [
    "# Apply list comprehension to store the cubes of n natural numbers\n",
    "li=[i**3 for i in range(1,11)]\n",
    "li"
   ]
  },
  {
   "cell_type": "code",
   "execution_count": 110,
   "metadata": {},
   "outputs": [
    {
     "data": {
      "text/plain": [
       "[1, 2, 6, 24, 120, 720, 5040, 40320, 362880, 3628800]"
      ]
     },
     "execution_count": 110,
     "metadata": {},
     "output_type": "execute_result"
    }
   ],
   "source": [
    "# Funtion to calculate the m factorial\n",
    "def factorial(n):\n",
    "    if n == 0  or n==1:\n",
    "        return 1\n",
    "    else:\n",
    "        return n*factorial(n-1)\n",
    "# Apply List Comprehension to calculate factorial of n natural number\n",
    "# Factorial of  n natural number\n",
    "n=10\n",
    "fact=[factorial(i) for i in range(1,n+1)]\n",
    "fact"
   ]
  },
  {
   "cell_type": "code",
   "execution_count": 132,
   "metadata": {},
   "outputs": [
    {
     "data": {
      "text/plain": [
       "[1, 3, 6, 10, 15]"
      ]
     },
     "execution_count": 132,
     "metadata": {},
     "output_type": "execute_result"
    }
   ],
   "source": [
    "# Calculate  store cumulative sum of numbers till n in a list\n",
    "#n=3,[1,3,6]\n",
    "\n",
    "l=[sum(range(1,i+1)) for i in range(1,n+1)]\n",
    "l\n"
   ]
  },
  {
   "cell_type": "code",
   "execution_count": 140,
   "metadata": {},
   "outputs": [
    {
     "data": {
      "text/plain": [
       "[1972, 1976, 1980, 1984, 1988, 1992, 1996, 2000, 2004, 2008, 2012, 2016]"
      ]
     },
     "execution_count": 140,
     "metadata": {},
     "output_type": "execute_result"
    }
   ],
   "source": [
    "# Funtion to store only leap years in a given  time period\n",
    "st=1970\n",
    "et=2019\n",
    "l=[year for year in range(st,et+1) if (( year%400 == 0)or (( year%4 == 0 ) and ( year%100 != 0)))]\n",
    "l"
   ]
  },
  {
   "cell_type": "code",
   "execution_count": 147,
   "metadata": {},
   "outputs": [
    {
     "data": {
      "text/plain": [
       "[3]"
      ]
     },
     "execution_count": 147,
     "metadata": {},
     "output_type": "execute_result"
    }
   ],
   "source": [
    "l=[1,2,3,2,1,4,4,5,6,7,4,5,5]\n",
    "unique=[]\n",
    "\n",
    "l"
   ]
  },
  {
   "cell_type": "markdown",
   "metadata": {},
   "source": [
    "### iterators\n",
    "    -->iterable -String,list,tuples,sets,dictionaries\n",
    "    -->to convert iterable to iterator -->iter()"
   ]
  },
  {
   "cell_type": "code",
   "execution_count": 160,
   "metadata": {},
   "outputs": [
    {
     "name": "stdout",
     "output_type": "stream",
     "text": [
      "1: v \n",
      " 2: i\n"
     ]
    }
   ],
   "source": [
    "it=iter(\"vijay\")\n",
    "print('1:',next(it),'\\n','2:',next(it))"
   ]
  },
  {
   "cell_type": "markdown",
   "metadata": {},
   "source": [
    "### Generator\n",
    "    -->Generator is Funtion"
   ]
  },
  {
   "cell_type": "code",
   "execution_count": 171,
   "metadata": {},
   "outputs": [
    {
     "data": {
      "text/plain": [
       "512"
      ]
     },
     "execution_count": 171,
     "metadata": {},
     "output_type": "execute_result"
    }
   ],
   "source": [
    "\n",
    "def generator():\n",
    "    n=2\n",
    "    yield n\n",
    "    \n",
    "    n=n**3\n",
    "    yield n\n",
    "    \n",
    "    n=n**3\n",
    "    yield n\n",
    "l=generator()\n",
    "next(l)\n",
    "next(l)\n",
    "next(l)"
   ]
  },
  {
   "cell_type": "code",
   "execution_count": 177,
   "metadata": {},
   "outputs": [
    {
     "data": {
      "text/plain": [
       "512"
      ]
     },
     "execution_count": 177,
     "metadata": {},
     "output_type": "execute_result"
    }
   ],
   "source": [
    "def gen1():\n",
    "    n=2\n",
    "    for i in range(1,5):\n",
    "        n**=3\n",
    "        yield n\n",
    "a=gen1()\n",
    "next(a)\n",
    "next(a)"
   ]
  },
  {
   "cell_type": "code",
   "execution_count": null,
   "metadata": {},
   "outputs": [],
   "source": []
  }
 ],
 "metadata": {
  "kernelspec": {
   "display_name": "Python 3",
   "language": "python",
   "name": "python3"
  },
  "language_info": {
   "codemirror_mode": {
    "name": "ipython",
    "version": 3
   },
   "file_extension": ".py",
   "mimetype": "text/x-python",
   "name": "python",
   "nbconvert_exporter": "python",
   "pygments_lexer": "ipython3",
   "version": "3.7.3"
  }
 },
 "nbformat": 4,
 "nbformat_minor": 2
}
