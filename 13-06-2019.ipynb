{
 "cells": [
  {
   "cell_type": "code",
   "execution_count": 3,
   "metadata": {},
   "outputs": [
    {
     "name": "stdout",
     "output_type": "stream",
     "text": [
      "500 502 504 506 508 510 512 514 516 518 520 522 524 526 528 530 532 534 536 538 540 542 544 546 548 550 "
     ]
    }
   ],
   "source": [
    "for i in range(500,552,2):\n",
    "    print(i,end=\" \")"
   ]
  },
  {
   "cell_type": "code",
   "execution_count": 6,
   "metadata": {},
   "outputs": [
    {
     "name": "stdout",
     "output_type": "stream",
     "text": [
      "9 7 5 3 1 "
     ]
    }
   ],
   "source": [
    "#Funtion to print reverse  of given range in the \n",
    "def reverseRange(s,e):\n",
    "    for value in range(e,s-1,-1):\n",
    "        if(value%2==1):\n",
    "            print(value ,end=\" \")\n",
    "    return \n",
    "reverseRange(1,10)"
   ]
  },
  {
   "cell_type": "code",
   "execution_count": 7,
   "metadata": {},
   "outputs": [
    {
     "data": {
      "text/plain": [
       "55"
      ]
     },
     "execution_count": 7,
     "metadata": {},
     "output_type": "execute_result"
    }
   ],
   "source": [
    "# funtion to calculate the sum of numners in a range\n",
    "def sum_of_number(l,u):\n",
    "    sum1=0\n",
    "    for i in range(l,u+1):\n",
    "        sum1+=i\n",
    "    return sum1\n",
    "sum_of_number(1,10)\n",
    "    "
   ]
  },
  {
   "cell_type": "code",
   "execution_count": 66,
   "metadata": {},
   "outputs": [],
   "source": [
    "def isLeap(year):\n",
    "    if(year%400==0 or (year%100!=0 and year%4==0)):\n",
    "        return True\n",
    "    else:\n",
    "        return False"
   ]
  },
  {
   "cell_type": "code",
   "execution_count": 67,
   "metadata": {},
   "outputs": [
    {
     "data": {
      "text/plain": [
       "730"
      ]
     },
     "execution_count": 67,
     "metadata": {},
     "output_type": "execute_result"
    }
   ],
   "source": [
    "def no_of_days(sy,ey):\n",
    "    days=0\n",
    "    for year in range(sy,ey+1):\n",
    "        if (isLeap(sy)==True):\n",
    "            days=days+366\n",
    "        else:\n",
    "            days=days+365\n",
    "    return days\n",
    "no_of_days(2017,2018)"
   ]
  },
  {
   "cell_type": "code",
   "execution_count": 79,
   "metadata": {},
   "outputs": [
    {
     "data": {
      "text/plain": [
       "31"
      ]
     },
     "execution_count": 79,
     "metadata": {},
     "output_type": "execute_result"
    }
   ],
   "source": [
    "def no_of_month(m,y):\n",
    "    if(m<=7 and m%2!=0)or(m>=8 and m%2==0):\n",
    "        return 31\n",
    "    elif(m==2):\n",
    "        if(isLeap(y)==True):\n",
    "            return 29\n",
    "        else:\n",
    "            return 28\n",
    "    else:\n",
    "        return 30\n",
    "no_of_month(7,2018)"
   ]
  },
  {
   "cell_type": "code",
   "execution_count": 69,
   "metadata": {},
   "outputs": [
    {
     "data": {
      "text/plain": [
       "61"
      ]
     },
     "execution_count": 69,
     "metadata": {},
     "output_type": "execute_result"
    }
   ],
   "source": [
    "def dayinstartyear(sm,sy):\n",
    "    days=0\n",
    "    for month in range(sm,13):\n",
    "        days=days+no_of_month(month,sy)\n",
    "    return days\n",
    "dayinstartyear(11,2016)"
   ]
  },
  {
   "cell_type": "code",
   "execution_count": 70,
   "metadata": {},
   "outputs": [
    {
     "data": {
      "text/plain": [
       "91"
      ]
     },
     "execution_count": 70,
     "metadata": {},
     "output_type": "execute_result"
    }
   ],
   "source": [
    "def dayinendyear(em,ey):\n",
    "    days=0\n",
    "    for month in range(1,em+1):\n",
    "        days=days+no_of_month(month,ey)\n",
    "    return days\n",
    "dayinendyear(3,2016)"
   ]
  },
  {
   "cell_type": "code",
   "execution_count": 77,
   "metadata": {},
   "outputs": [
    {
     "data": {
      "text/plain": [
       "1464"
      ]
     },
     "execution_count": 77,
     "metadata": {},
     "output_type": "execute_result"
    }
   ],
   "source": [
    "def no_of_hours(sm,sy,em,ey):\n",
    "    days=0\n",
    "    if(sy!=ey):\n",
    "        days=days+dayinstartyear(sm,sy)\n",
    "        days=days+dayinendyear(em,ey)\n",
    "        if((ey-sy)==2):\n",
    "            days=days+no_of_days(sy+1,sy+1)\n",
    "        elif((ey-sy)>2):\n",
    "            days=days+no_of_days(sy+1,ey-1)\n",
    "    else:\n",
    "        for month in range(sm, em+1):\n",
    "            days += no_of_month(month, sy)\n",
    "    return days*24\n",
    "no_of_hours(6, 2018, 7, 2018)"
   ]
  },
  {
   "cell_type": "code",
   "execution_count": null,
   "metadata": {},
   "outputs": [],
   "source": []
  },
  {
   "cell_type": "code",
   "execution_count": null,
   "metadata": {},
   "outputs": [],
   "source": []
  }
 ],
 "metadata": {
  "kernelspec": {
   "display_name": "Python 3",
   "language": "python",
   "name": "python3"
  },
  "language_info": {
   "codemirror_mode": {
    "name": "ipython",
    "version": 3
   },
   "file_extension": ".py",
   "mimetype": "text/x-python",
   "name": "python",
   "nbconvert_exporter": "python",
   "pygments_lexer": "ipython3",
   "version": "3.7.3"
  }
 },
 "nbformat": 4,
 "nbformat_minor": 2
}
