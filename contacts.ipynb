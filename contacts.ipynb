{
 "cells": [
  {
   "cell_type": "code",
   "execution_count": 16,
   "metadata": {},
   "outputs": [
    {
     "ename": "ImportError",
     "evalue": "cannot import name 'phoneNumbeValidator' from 'Packeges' (C:\\Users\\IIIT-rgukt\\Desktop\\vijay\\Packeges.py)",
     "output_type": "error",
     "traceback": [
      "\u001b[1;31m---------------------------------------------------------------------------\u001b[0m",
      "\u001b[1;31mImportError\u001b[0m                               Traceback (most recent call last)",
      "\u001b[1;32m<ipython-input-16-d5fbeca7281b>\u001b[0m in \u001b[0;36m<module>\u001b[1;34m\u001b[0m\n\u001b[1;32m----> 1\u001b[1;33m \u001b[1;32mfrom\u001b[0m \u001b[0mPackeges\u001b[0m \u001b[1;32mimport\u001b[0m \u001b[0mphoneNumbeValidator\u001b[0m \u001b[1;32mas\u001b[0m \u001b[0mphv\u001b[0m\u001b[1;33m\u001b[0m\u001b[1;33m\u001b[0m\u001b[0m\n\u001b[0m\u001b[0;32m      2\u001b[0m \u001b[1;32mfrom\u001b[0m \u001b[0mPackeges\u001b[0m \u001b[1;32mimport\u001b[0m \u001b[0memailValidator\u001b[0m \u001b[1;32mas\u001b[0m \u001b[0mev\u001b[0m\u001b[1;33m\u001b[0m\u001b[1;33m\u001b[0m\u001b[0m\n\u001b[0;32m      3\u001b[0m \u001b[1;32mimport\u001b[0m \u001b[0mre\u001b[0m\u001b[1;33m\u001b[0m\u001b[1;33m\u001b[0m\u001b[0m\n\u001b[0;32m      4\u001b[0m \u001b[1;32mdef\u001b[0m \u001b[0maddContact\u001b[0m\u001b[1;33m(\u001b[0m\u001b[0mname\u001b[0m\u001b[1;33m,\u001b[0m\u001b[0mphone\u001b[0m\u001b[1;33m,\u001b[0m\u001b[0memail\u001b[0m\u001b[1;33m)\u001b[0m\u001b[1;33m:\u001b[0m\u001b[1;33m\u001b[0m\u001b[1;33m\u001b[0m\u001b[0m\n\u001b[0;32m      5\u001b[0m    \u001b[0mfilename\u001b[0m \u001b[1;33m=\u001b[0m \u001b[1;34m'DataFiles/contacts.txt'\u001b[0m\u001b[1;33m\u001b[0m\u001b[1;33m\u001b[0m\u001b[0m\n",
      "\u001b[1;31mImportError\u001b[0m: cannot import name 'phoneNumbeValidator' from 'Packeges' (C:\\Users\\IIIT-rgukt\\Desktop\\vijay\\Packeges.py)"
     ]
    }
   ],
   "source": [
    " from Packeges import phoneNumbeValidator as phv\n",
    "from Packeges import emailValidator as ev\n",
    "import re\n",
    "def addContact(name,phone,email):\n",
    "    filename = 'DataFiles/contacts.txt'\n",
    "    if not checkcontactexits(name):\n",
    "        if(phv(phone) and ev(email)):\n",
    "            with open(filename,'a') as f:\n",
    "                line=name + ',' + str(phone) + ',' +email+'\\n'\n",
    "                f.write(line)\n",
    "            print(name,'Added to Contacts') \n",
    "        else:\n",
    "            print(\"Invalid Phone number or email\")\n",
    "            return \n",
    "    else:\n",
    "        print(name,'Alredy exits')\n",
    "    return \n",
    "def checkcontactexits(name):\n",
    "    filename = 'DataFiles/contacts.txt'\n",
    "    with open(filename,'r') as f:\n",
    "        filedata=f.read()\n",
    "        pattern=name+','\n",
    "    return re.search(name,filedata)\n",
    "if(checkcontactexits('vijay')):\n",
    "    print(True)\n",
    "else:\n",
    "    print(False)\n",
    "addContact('vijay',2389765,\"vijay10022@gmail.com\")"
   ]
  },
  {
   "cell_type": "code",
   "execution_count": null,
   "metadata": {},
   "outputs": [],
   "source": []
  }
 ],
 "metadata": {
  "kernelspec": {
   "display_name": "Python 3",
   "language": "python",
   "name": "python3"
  },
  "language_info": {
   "codemirror_mode": {
    "name": "ipython",
    "version": 3
   },
   "file_extension": ".py",
   "mimetype": "text/x-python",
   "name": "python",
   "nbconvert_exporter": "python",
   "pygments_lexer": "ipython3",
   "version": "3.7.3"
  }
 },
 "nbformat": 4,
 "nbformat_minor": 2
}
