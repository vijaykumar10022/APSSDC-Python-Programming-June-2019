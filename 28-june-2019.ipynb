{
 "cells": [
  {
   "cell_type": "markdown",
   "metadata": {},
   "source": [
    "\n",
    "### Day Objectives\n",
    "   - Maps\n",
    "   - Lamda\n",
    "   - Filter\n",
    "   - use cased -file/Data Encryption"
   ]
  },
  {
   "cell_type": "markdown",
   "metadata": {},
   "source": [
    "### Map\n",
    " - Maping b/w an entity with a funtion\n",
    " - map(funtion ,iterable)\n",
    " \n",
    " "
   ]
  },
  {
   "cell_type": "code",
   "execution_count": 5,
   "metadata": {},
   "outputs": [
    {
     "data": {
      "text/plain": [
       "8"
      ]
     },
     "execution_count": 5,
     "metadata": {},
     "output_type": "execute_result"
    }
   ],
   "source": [
    "def pow(a,n):# a,3\n",
    "    #return a**n\n",
    "    r=1\n",
    "    for i in range(n):\n",
    "        r*=a\n",
    "    return r\n",
    "pow(2,3)\n",
    "def recursivepower(a,n):\n",
    "    if n==0:\n",
    "        return 1\n",
    "    else:\n",
    "        return a*recursivepower(a,n-1)\n",
    "recursivepower(2,3)"
   ]
  },
  {
   "cell_type": "code",
   "execution_count": 42,
   "metadata": {},
   "outputs": [
    {
     "data": {
      "text/plain": [
       "[1, 2, 3, 5, 6]"
      ]
     },
     "execution_count": 42,
     "metadata": {},
     "output_type": "execute_result"
    }
   ],
   "source": [
    "def cube(n):\n",
    "    return n**3\n",
    "# li=['1','2','3','4','5','6']\n",
    "s=\"12356\"\n",
    "# s=list(s)\n",
    "list(map(int,s))\n"
   ]
  },
  {
   "cell_type": "markdown",
   "metadata": {},
   "source": [
    "### Filter\n",
    "    - used as boolean value it return True /False\n",
    "    filter(funtion ,sequence)"
   ]
  },
  {
   "cell_type": "code",
   "execution_count": 56,
   "metadata": {},
   "outputs": [
    {
     "data": {
      "text/plain": [
       "['b', 'c']"
      ]
     },
     "execution_count": 56,
     "metadata": {},
     "output_type": "execute_result"
    }
   ],
   "source": [
    "l=[1,2,'123a','b','c',3]\n",
    "def isDigit(c):\n",
    "    c=str(c)\n",
    "    if(c.isalpha()):\n",
    "        return True\n",
    "    else:\n",
    "        return False\n",
    "isDigit('c')\n",
    "list(filter(isDigit,l))"
   ]
  },
  {
   "cell_type": "code",
   "execution_count": 79,
   "metadata": {},
   "outputs": [
    {
     "data": {
      "text/plain": [
       "[503, 509, 521, 523, 541, 547, 557, 563, 569, 571, 577, 587, 593, 599]"
      ]
     },
     "execution_count": 79,
     "metadata": {},
     "output_type": "execute_result"
    }
   ],
   "source": [
    "# filter funtion to identify all primes for given range using fileter\n",
    "def checkprime(n):\n",
    "    for i in range(2,n//2 +1):\n",
    "        if n%i==0:\n",
    "            return False\n",
    "    return True\n",
    "# list(filter(checkprime,range(500,600)))\n",
    "# [checkprime(i) for i in range(500,600)   ]\n",
    "[i for i in range(500,600) if checkprime(i)  ]\n",
    "# map fails because map is not use for condition check"
   ]
  },
  {
   "cell_type": "markdown",
   "metadata": {},
   "source": [
    "### Lambda\n",
    " - Anonymous Funtions which are embedded into iterables(lists Comprehension,maps,filters)\n",
    " \n"
   ]
  },
  {
   "cell_type": "code",
   "execution_count": 85,
   "metadata": {},
   "outputs": [
    {
     "name": "stdout",
     "output_type": "stream",
     "text": [
      "['False', 'None', 'True', 'and', 'as', 'assert', 'async', 'await', 'break', 'class', 'continue', 'def', 'del', 'elif', 'else', 'except', 'finally', 'for', 'from', 'global', 'if', 'import', 'in', 'is', 'lambda', 'nonlocal', 'not', 'or', 'pass', 'raise', 'return', 'try', 'while', 'with', 'yield']\n"
     ]
    }
   ],
   "source": [
    "import keyword \n",
    "print(keyword.kwlist)"
   ]
  },
  {
   "cell_type": "code",
   "execution_count": 95,
   "metadata": {},
   "outputs": [
    {
     "data": {
      "text/plain": [
       "[2, 4, 6, 8]"
      ]
     },
     "execution_count": 95,
     "metadata": {},
     "output_type": "execute_result"
    }
   ],
   "source": [
    "a= lambda x:x ** 3\n",
    "# for i in range(1,10):\n",
    "#     print(a(i))\n",
    "list(map(lambda x :x ** 3,range(1,10)))\n",
    "list(filter(lambda x:(x % 2==0),range(1,10)))"
   ]
  },
  {
   "cell_type": "code",
   "execution_count": 4,
   "metadata": {},
   "outputs": [
    {
     "name": "stdout",
     "output_type": "stream",
     "text": [
      "[9, 19, 21, 7, 20, 25, 10, 12, 1, 20]\n",
      "[0, 8, 12, 11, 9, 6, 9, 18, 9, 19]\n",
      "[4.5, 13.5, 16.5, 9.0, 14.5, 15.5, 9.5, 15.0, 5.0, 19.5]\n"
     ]
    },
    {
     "data": {
      "text/plain": [
       "[4.5, 9.0, 9.5, 5.0]"
      ]
     },
     "execution_count": 4,
     "metadata": {},
     "output_type": "execute_result"
    }
   ],
   "source": [
    "from random import randint\n",
    "internal1 = [randint(0,25) for i in range(10)]\n",
    "internal2 = [randint(0,25) for i in range(10)]\n",
    "averageinternalmarks= list(map(lambda x,y:(x+y)/2,internal1,internal2))\n",
    "print(internal1)\n",
    "print(internal2)\n",
    "print(averageinternalmarks)\n",
    "fail=list(filter(lambda x:x<10,averageinternalmarks))\n",
    "fail"
   ]
  },
  {
   "cell_type": "markdown",
   "metadata": {},
   "source": [
    "### Applyling Pogramming to the marks Analysis Apllication"
   ]
  },
  {
   "cell_type": "code",
   "execution_count": 7,
   "metadata": {},
   "outputs": [],
   "source": [
    "# Generate marks data \n",
    "from random import randint\n",
    "def generatemarks(n,lb,ub):\n",
    "    filename='DataFiles/marks.txt'\n",
    "    with open(filename,'w') as f:\n",
    "        for i in range(n):\n",
    "            marks=randint(lb,ub)\n",
    "            f.write(str(marks)+'\\n')\n",
    "    \n",
    "generatemarks(300,0,100) "
   ]
  },
  {
   "cell_type": "code",
   "execution_count": 13,
   "metadata": {},
   "outputs": [
    {
     "data": {
      "text/plain": [
       "51.68333333333333"
      ]
     },
     "execution_count": 13,
     "metadata": {},
     "output_type": "execute_result"
    }
   ],
   "source": [
    "# Marks Analysis\n",
    "# Class Average ,Percetage of Pass & Failed and Distinct ,Freq of highest and lowest\n",
    "def ClassAverage(filepath):\n",
    "    \n",
    "    with open(filepath,'r') as f:\n",
    "        filedata=f.read().split()\n",
    "#         markslist=re.split('\\n',filedata)\n",
    "        filedata=list(map(int,filedata))\n",
    "    return sum(filedata)/len(filedata)\n",
    "ClassAverage('DataFiles/marks.txt')"
   ]
  },
  {
   "cell_type": "code",
   "execution_count": 22,
   "metadata": {},
   "outputs": [
    {
     "data": {
      "text/plain": [
       "37.333333333333336"
      ]
     },
     "execution_count": 22,
     "metadata": {},
     "output_type": "execute_result"
    }
   ],
   "source": [
    "def readmarkslist(filepath):\n",
    "    with open(filepath,'r') as f:\n",
    "        filedata=f.read().split()\n",
    "        return list(map(int,filedata))\n",
    "def percentageFailed(filepath):\n",
    "    markslist=readmarkslist(filepath)\n",
    "    filedcount=len(list(filter(lambda marks : marks <40,markslist)))\n",
    "    return (filedcount/len(markslist))*100\n",
    "def percentagepassed(filepath):\n",
    "    markslist=readmarkslist(filepath)\n",
    "    passedcount=len(list(filter(lambda marks : marks >40,markslist)))\n",
    "    return (passedcount/len(markslist))*100\n",
    "def Dictinction(filepath):\n",
    "    markslist=readmarkslist(filepath)\n",
    "    Dict=len(list(filter(lambda marks : marks >=75,markslist)))\n",
    "    return (Dict/len(markslist))*100\n",
    "def Classavg(filepath):\n",
    "    markslist=readmarkslist(filepath)\n",
    "    return sum(markslist)//len(markslist)\n",
    "def freqofhighest(filepath):\n",
    "    marksdata=readmarkslist(filepath)\n",
    "    return marksdata.count(max(marksdata))\n",
    "def freqoflowest(filepath):\n",
    "    marksdata=readmarkslist(filepath)\n",
    "    return marksdata.count(min(marksdata))\n",
    "percentageFailed('DataFiles/marks.txt')"
   ]
  },
  {
   "cell_type": "markdown",
   "metadata": {},
   "source": [
    "### Data Encription\n",
    "   - key - Mapping of character with replace another character\n",
    "   - 0 --> 4\n",
    "   - 1 --> 5\n",
    "   - 2 --> 6\n",
    "   - 3 --> 7\n",
    "   - 4 --> 8\n",
    "   - 5 --> 9\n",
    "   - 6 --> 0\n",
    "   - 7 --> 1\n",
    "   - 8 --> 2\n",
    "   - 9 --> 3\n",
    "    "
   ]
  },
  {
   "cell_type": "code",
   "execution_count": 25,
   "metadata": {},
   "outputs": [],
   "source": [
    "# Generate Key for encription\n",
    "keypath='DataFiles/key.txt'\n",
    "def genratekey(keypath):\n",
    "    with open(keypath,'w') as f:\n",
    "        for i in range(10):\n",
    "            if i <6:\n",
    "                f.write(str(i)+' '+str(i+4)+'\\n')\n",
    "            else:\n",
    "                f.write(str(i)+' '+str(i-6)+'\\n')\n",
    "        \n",
    "genratekey(keypath)"
   ]
  },
  {
   "cell_type": "code",
   "execution_count": 28,
   "metadata": {},
   "outputs": [
    {
     "data": {
      "text/plain": [
       "{'0': '4',\n",
       " '1': '5',\n",
       " '2': '6',\n",
       " '3': '7',\n",
       " '4': '8',\n",
       " '5': '9',\n",
       " '6': '0',\n",
       " '7': '1',\n",
       " '8': '2',\n",
       " '9': '3'}"
      ]
     },
     "execution_count": 28,
     "metadata": {},
     "output_type": "execute_result"
    }
   ],
   "source": [
    "# Encript to a data File\n",
    "def dictionarykeyfile(keyfile):\n",
    "    key={}\n",
    "    with open(keyfile,'r') as f:\n",
    "        for line in f:\n",
    "            line=line.split()\n",
    "            key[line[0]]=line[1]\n",
    "    return key\n",
    "dictionarykeyfile(keypath)\n",
    "\n",
    "        \n",
    "# def EncriptionmarksData(datafile,keyfile):\n",
    "#     # Construct a Dictinary for key data\n",
    "#     keydata={}\n",
    "#     with open('DataFiles/key.txt','r') as f:\n",
    "    "
   ]
  },
  {
   "cell_type": "code",
   "execution_count": null,
   "metadata": {},
   "outputs": [],
   "source": []
  }
 ],
 "metadata": {
  "kernelspec": {
   "display_name": "Python 3",
   "language": "python",
   "name": "python3"
  },
  "language_info": {
   "codemirror_mode": {
    "name": "ipython",
    "version": 3
   },
   "file_extension": ".py",
   "mimetype": "text/x-python",
   "name": "python",
   "nbconvert_exporter": "python",
   "pygments_lexer": "ipython3",
   "version": "3.7.3"
  }
 },
 "nbformat": 4,
 "nbformat_minor": 2
}
