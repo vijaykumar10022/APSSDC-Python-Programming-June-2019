{
 "cells": [
  {
   "cell_type": "markdown",
   "metadata": {},
   "source": [
    "#### Files Handling in Python\n",
    "File - Decoument containing residing on the parmenent storage\n",
    "types - Text,PDF,CSV, ect\n",
    "\n",
    "File IO Channeling I/O data to Files\n",
    "Default I/O channels -keyboard /Screen\n",
    "\n",
    "change I/P channel t files for Reading and writning\n",
    "\n",
    "Read a file - Input \n",
    "Write a file -Output\n",
    "\n",
    "Read/Write for File --->open(filename,mode) -r,w\n",
    "\n",
    "\n"
   ]
  },
  {
   "cell_type": "code",
   "execution_count": 15,
   "metadata": {},
   "outputs": [
    {
     "name": "stdout",
     "output_type": "stream",
     "text": [
      "line1\n",
      "line2\n",
      "line3"
     ]
    }
   ],
   "source": [
    "# Funtion to read a file\n",
    "def readfile(filename):\n",
    "        f=open(filename,'r')\n",
    "        filedata=f.read()\n",
    "        return filedata\n",
    "filename='DataFiles//data.txt'\n",
    "# for line in readfile(filename).split('\\n'):\n",
    "#     print(line)\n",
    "\n",
    "def printFileDataline(filename):\n",
    "    f=open(filename,'r')\n",
    "    for line in f:\n",
    "        print(line,end=\"\")\n",
    "    return \n",
    "filename='DataFiles//data.txt'\n",
    "printFileDataline(filename)"
   ]
  },
  {
   "cell_type": "code",
   "execution_count": null,
   "metadata": {},
   "outputs": [],
   "source": []
  }
 ],
 "metadata": {
  "kernelspec": {
   "display_name": "Python 3",
   "language": "python",
   "name": "python3"
  },
  "language_info": {
   "codemirror_mode": {
    "name": "ipython",
    "version": 3
   },
   "file_extension": ".py",
   "mimetype": "text/x-python",
   "name": "python",
   "nbconvert_exporter": "python",
   "pygments_lexer": "ipython3",
   "version": "3.7.3"
  }
 },
 "nbformat": 4,
 "nbformat_minor": 2
}
